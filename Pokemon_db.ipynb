{
 "cells": [
  {
   "cell_type": "code",
   "execution_count": 37,
   "id": "c124a8e3",
   "metadata": {},
   "outputs": [],
   "source": [
    "from selenium import webdriver\n",
    "import pandas as pd"
   ]
  },
  {
   "cell_type": "code",
   "execution_count": 38,
   "id": "83884766",
   "metadata": {},
   "outputs": [],
   "source": [
    "# open the website\n",
    "\n",
    "driver = webdriver.Chrome('/home/aayush/Downloads/Chrome_driver_Selenium/chromedriver')\n",
    "driver.get('https://pokemondb.net/pokedex/all')\n",
    "driver.maximize_window()"
   ]
  },
  {
   "cell_type": "code",
   "execution_count": 39,
   "id": "822ded62",
   "metadata": {},
   "outputs": [],
   "source": [
    "#privacy policy\n",
    "\n",
    "button = driver.find_element_by_class_name('gdpr-accept')\n",
    "\n",
    "try:\n",
    "    button.click()\n",
    "except:\n",
    "    pass"
   ]
  },
  {
   "cell_type": "code",
   "execution_count": 40,
   "id": "6d8bdd22",
   "metadata": {},
   "outputs": [],
   "source": [
    "# button = driver.find_element_by_xpath('//button[@class=\"btn btn-primary gdpr-accept\"]')\n",
    "\n",
    "# try:\n",
    "#     button.click()\n",
    "# except:\n",
    "#     pass"
   ]
  },
  {
   "cell_type": "code",
   "execution_count": 41,
   "id": "f4c860a2",
   "metadata": {},
   "outputs": [],
   "source": [
    "## create locators\n",
    "\n",
    "pokemon_name = driver.find_elements_by_xpath('//tbody/tr/td[2]')\n",
    "\n",
    "pokemon_type = driver.find_elements_by_xpath('//tbody/tr/td[3]')\n",
    "\n",
    "pokemon_total = driver.find_elements_by_xpath('//tbody/tr/td[4]')\n",
    "\n",
    "pokemon_hp = driver.find_elements_by_xpath('//tbody/tr/td[5]')\n",
    "\n",
    "pokemon_attack = driver.find_elements_by_xpath('//tbody/tr/td[6]')\n",
    "\n",
    "pokemon_defence = driver.find_elements_by_xpath('//tbody/tr/td[7]')\n",
    "\n",
    "pokemon_sp_attack = driver.find_elements_by_xpath('//tbody/tr/td[8]')\n",
    "\n",
    "pokemon_sp_defense = driver.find_elements_by_xpath('//tbody/tr/td[9]')\n",
    "\n",
    "pokemon_speed = driver.find_elements_by_xpath('//tbody/tr/td[10]')"
   ]
  },
  {
   "cell_type": "code",
   "execution_count": 42,
   "id": "dd55886d",
   "metadata": {},
   "outputs": [],
   "source": [
    "# create an empty list\n",
    "\n",
    "# pokemon_name_list=[]\n",
    "# pokemon_type_list=[]\n",
    "# pokemon_total_list = []\n",
    "# pokemon_hp_total_list = []\n",
    "# pokemon_attack_list=[]\n",
    "# pokemon_defence_list=[]\n",
    "# pokemon_sp_attack_list=[]\n",
    "# pokemon_sp_defense_list=[]\n",
    "# pokemon_speed_list=[]\n"
   ]
  },
  {
   "cell_type": "code",
   "execution_count": 43,
   "id": "2936a27b",
   "metadata": {},
   "outputs": [],
   "source": [
    "pokemon_results=[]"
   ]
  },
  {
   "cell_type": "code",
   "execution_count": 44,
   "id": "64bcb4dd",
   "metadata": {},
   "outputs": [],
   "source": [
    "# create a dictionary\n",
    "\n",
    "for i in range(len(pokemon_name)):\n",
    "    pokemon_dict ={'Name':pokemon_name[i].text,\n",
    "                  'Type': pokemon_type[i].text,\n",
    "                  'Total': pokemon_total[i].text,\n",
    "                  'HP': pokemon_hp[i].text,\n",
    "                  'attack': pokemon_attack[i].text,\n",
    "                  'defence': pokemon_defence[i].text,\n",
    "                  'sp_attack': pokemon_sp_attack[i].text,\n",
    "                  'sp_defense': pokemon_sp_defense[i].text,\n",
    "                  'speed': pokemon_speed[i].text\n",
    "                  }\n",
    "    pokemon_results.append(pokemon_dict)"
   ]
  },
  {
   "cell_type": "code",
   "execution_count": 54,
   "id": "723929bb",
   "metadata": {},
   "outputs": [],
   "source": [
    "### Create dataframe\n",
    "\n",
    "pokemon_df = pd.DataFrame(pokemon_results)"
   ]
  },
  {
   "cell_type": "code",
   "execution_count": 55,
   "id": "3b0fc7ba",
   "metadata": {},
   "outputs": [
    {
     "data": {
      "text/html": [
       "<div>\n",
       "<style scoped>\n",
       "    .dataframe tbody tr th:only-of-type {\n",
       "        vertical-align: middle;\n",
       "    }\n",
       "\n",
       "    .dataframe tbody tr th {\n",
       "        vertical-align: top;\n",
       "    }\n",
       "\n",
       "    .dataframe thead th {\n",
       "        text-align: right;\n",
       "    }\n",
       "</style>\n",
       "<table border=\"1\" class=\"dataframe\">\n",
       "  <thead>\n",
       "    <tr style=\"text-align: right;\">\n",
       "      <th></th>\n",
       "      <th>Name</th>\n",
       "      <th>Type</th>\n",
       "      <th>Total</th>\n",
       "      <th>HP</th>\n",
       "      <th>attack</th>\n",
       "      <th>defence</th>\n",
       "      <th>sp_attack</th>\n",
       "      <th>sp_defense</th>\n",
       "      <th>speed</th>\n",
       "    </tr>\n",
       "  </thead>\n",
       "  <tbody>\n",
       "    <tr>\n",
       "      <th>0</th>\n",
       "      <td>Bulbasaur</td>\n",
       "      <td>GRASS\\nPOISON</td>\n",
       "      <td>318</td>\n",
       "      <td>45</td>\n",
       "      <td>49</td>\n",
       "      <td>49</td>\n",
       "      <td>65</td>\n",
       "      <td>65</td>\n",
       "      <td>45</td>\n",
       "    </tr>\n",
       "    <tr>\n",
       "      <th>1</th>\n",
       "      <td>Ivysaur</td>\n",
       "      <td>GRASS\\nPOISON</td>\n",
       "      <td>405</td>\n",
       "      <td>60</td>\n",
       "      <td>62</td>\n",
       "      <td>63</td>\n",
       "      <td>80</td>\n",
       "      <td>80</td>\n",
       "      <td>60</td>\n",
       "    </tr>\n",
       "    <tr>\n",
       "      <th>2</th>\n",
       "      <td>Venusaur</td>\n",
       "      <td>GRASS\\nPOISON</td>\n",
       "      <td>525</td>\n",
       "      <td>80</td>\n",
       "      <td>82</td>\n",
       "      <td>83</td>\n",
       "      <td>100</td>\n",
       "      <td>100</td>\n",
       "      <td>80</td>\n",
       "    </tr>\n",
       "    <tr>\n",
       "      <th>3</th>\n",
       "      <td>Venusaur\\nMega Venusaur</td>\n",
       "      <td>GRASS\\nPOISON</td>\n",
       "      <td>625</td>\n",
       "      <td>80</td>\n",
       "      <td>100</td>\n",
       "      <td>123</td>\n",
       "      <td>122</td>\n",
       "      <td>120</td>\n",
       "      <td>80</td>\n",
       "    </tr>\n",
       "    <tr>\n",
       "      <th>4</th>\n",
       "      <td>Charmander</td>\n",
       "      <td>FIRE</td>\n",
       "      <td>309</td>\n",
       "      <td>39</td>\n",
       "      <td>52</td>\n",
       "      <td>43</td>\n",
       "      <td>60</td>\n",
       "      <td>50</td>\n",
       "      <td>65</td>\n",
       "    </tr>\n",
       "  </tbody>\n",
       "</table>\n",
       "</div>"
      ],
      "text/plain": [
       "                      Name           Type Total  HP attack defence sp_attack  \\\n",
       "0                Bulbasaur  GRASS\\nPOISON   318  45     49      49        65   \n",
       "1                  Ivysaur  GRASS\\nPOISON   405  60     62      63        80   \n",
       "2                 Venusaur  GRASS\\nPOISON   525  80     82      83       100   \n",
       "3  Venusaur\\nMega Venusaur  GRASS\\nPOISON   625  80    100     123       122   \n",
       "4               Charmander           FIRE   309  39     52      43        60   \n",
       "\n",
       "  sp_defense speed  \n",
       "0         65    45  \n",
       "1         80    60  \n",
       "2        100    80  \n",
       "3        120    80  \n",
       "4         50    65  "
      ]
     },
     "execution_count": 55,
     "metadata": {},
     "output_type": "execute_result"
    }
   ],
   "source": [
    "pokemon_df.head()"
   ]
  },
  {
   "cell_type": "code",
   "execution_count": 50,
   "id": "c9591b94",
   "metadata": {},
   "outputs": [],
   "source": [
    "## replacing unnecessary characters"
   ]
  },
  {
   "cell_type": "code",
   "execution_count": 56,
   "id": "49dfa92a",
   "metadata": {},
   "outputs": [],
   "source": [
    "# pokemon_df = pokemon_df.replace('\\n',', ', regex=True)"
   ]
  },
  {
   "cell_type": "code",
   "execution_count": 57,
   "id": "c3f76a90",
   "metadata": {},
   "outputs": [],
   "source": [
    "pokemon_df['Type']= pokemon_df['Type'].apply(lambda x: x.replace('\\n',','))\n",
    "pokemon_df['Name']= pokemon_df['Name'].apply(lambda x: x.replace('\\n','/'))"
   ]
  },
  {
   "cell_type": "code",
   "execution_count": 58,
   "id": "d7504969",
   "metadata": {},
   "outputs": [
    {
     "data": {
      "text/html": [
       "<div>\n",
       "<style scoped>\n",
       "    .dataframe tbody tr th:only-of-type {\n",
       "        vertical-align: middle;\n",
       "    }\n",
       "\n",
       "    .dataframe tbody tr th {\n",
       "        vertical-align: top;\n",
       "    }\n",
       "\n",
       "    .dataframe thead th {\n",
       "        text-align: right;\n",
       "    }\n",
       "</style>\n",
       "<table border=\"1\" class=\"dataframe\">\n",
       "  <thead>\n",
       "    <tr style=\"text-align: right;\">\n",
       "      <th></th>\n",
       "      <th>Name</th>\n",
       "      <th>Type</th>\n",
       "      <th>Total</th>\n",
       "      <th>HP</th>\n",
       "      <th>attack</th>\n",
       "      <th>defence</th>\n",
       "      <th>sp_attack</th>\n",
       "      <th>sp_defense</th>\n",
       "      <th>speed</th>\n",
       "    </tr>\n",
       "  </thead>\n",
       "  <tbody>\n",
       "    <tr>\n",
       "      <th>0</th>\n",
       "      <td>Bulbasaur</td>\n",
       "      <td>GRASS,POISON</td>\n",
       "      <td>318</td>\n",
       "      <td>45</td>\n",
       "      <td>49</td>\n",
       "      <td>49</td>\n",
       "      <td>65</td>\n",
       "      <td>65</td>\n",
       "      <td>45</td>\n",
       "    </tr>\n",
       "    <tr>\n",
       "      <th>1</th>\n",
       "      <td>Ivysaur</td>\n",
       "      <td>GRASS,POISON</td>\n",
       "      <td>405</td>\n",
       "      <td>60</td>\n",
       "      <td>62</td>\n",
       "      <td>63</td>\n",
       "      <td>80</td>\n",
       "      <td>80</td>\n",
       "      <td>60</td>\n",
       "    </tr>\n",
       "    <tr>\n",
       "      <th>2</th>\n",
       "      <td>Venusaur</td>\n",
       "      <td>GRASS,POISON</td>\n",
       "      <td>525</td>\n",
       "      <td>80</td>\n",
       "      <td>82</td>\n",
       "      <td>83</td>\n",
       "      <td>100</td>\n",
       "      <td>100</td>\n",
       "      <td>80</td>\n",
       "    </tr>\n",
       "    <tr>\n",
       "      <th>3</th>\n",
       "      <td>Venusaur/Mega Venusaur</td>\n",
       "      <td>GRASS,POISON</td>\n",
       "      <td>625</td>\n",
       "      <td>80</td>\n",
       "      <td>100</td>\n",
       "      <td>123</td>\n",
       "      <td>122</td>\n",
       "      <td>120</td>\n",
       "      <td>80</td>\n",
       "    </tr>\n",
       "    <tr>\n",
       "      <th>4</th>\n",
       "      <td>Charmander</td>\n",
       "      <td>FIRE</td>\n",
       "      <td>309</td>\n",
       "      <td>39</td>\n",
       "      <td>52</td>\n",
       "      <td>43</td>\n",
       "      <td>60</td>\n",
       "      <td>50</td>\n",
       "      <td>65</td>\n",
       "    </tr>\n",
       "  </tbody>\n",
       "</table>\n",
       "</div>"
      ],
      "text/plain": [
       "                     Name          Type Total  HP attack defence sp_attack  \\\n",
       "0               Bulbasaur  GRASS,POISON   318  45     49      49        65   \n",
       "1                 Ivysaur  GRASS,POISON   405  60     62      63        80   \n",
       "2                Venusaur  GRASS,POISON   525  80     82      83       100   \n",
       "3  Venusaur/Mega Venusaur  GRASS,POISON   625  80    100     123       122   \n",
       "4              Charmander          FIRE   309  39     52      43        60   \n",
       "\n",
       "  sp_defense speed  \n",
       "0         65    45  \n",
       "1         80    60  \n",
       "2        100    80  \n",
       "3        120    80  \n",
       "4         50    65  "
      ]
     },
     "execution_count": 58,
     "metadata": {},
     "output_type": "execute_result"
    }
   ],
   "source": [
    "pokemon_df.head()"
   ]
  },
  {
   "cell_type": "code",
   "execution_count": 49,
   "id": "3c18038c",
   "metadata": {},
   "outputs": [
    {
     "data": {
      "text/plain": [
       "(1045, 9)"
      ]
     },
     "execution_count": 49,
     "metadata": {},
     "output_type": "execute_result"
    }
   ],
   "source": [
    "pokemon_df.shape"
   ]
  },
  {
   "cell_type": "code",
   "execution_count": 59,
   "id": "dbe805af",
   "metadata": {},
   "outputs": [],
   "source": [
    "# saving the file into excel"
   ]
  },
  {
   "cell_type": "code",
   "execution_count": 60,
   "id": "c6cd8380",
   "metadata": {},
   "outputs": [],
   "source": [
    "pokemon_df.to_excel('pokemon_db_cleaned.xlsx',index=False)"
   ]
  },
  {
   "cell_type": "code",
   "execution_count": null,
   "id": "10bb8773",
   "metadata": {},
   "outputs": [],
   "source": [
    "pd.read_excel('pokemon_db_cleaned.xlsx')"
   ]
  }
 ],
 "metadata": {
  "kernelspec": {
   "display_name": "Python 3",
   "language": "python",
   "name": "python3"
  },
  "language_info": {
   "codemirror_mode": {
    "name": "ipython",
    "version": 3
   },
   "file_extension": ".py",
   "mimetype": "text/x-python",
   "name": "python",
   "nbconvert_exporter": "python",
   "pygments_lexer": "ipython3",
   "version": "3.7.10"
  }
 },
 "nbformat": 4,
 "nbformat_minor": 5
}
