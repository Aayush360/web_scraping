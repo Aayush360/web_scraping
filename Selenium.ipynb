{
 "cells": [
  {
   "cell_type": "markdown",
   "id": "805b12f4",
   "metadata": {},
   "source": [
    " ## Setup"
   ]
  },
  {
   "cell_type": "code",
   "execution_count": 55,
   "id": "0c77e346",
   "metadata": {},
   "outputs": [],
   "source": [
    "from selenium import webdriver\n",
    "from selenium.webdriver.common.keys import Keys\n",
    "from selenium.webdriver.common.by import By\n",
    "from selenium.webdriver.chrome.options import Options\n",
    "import time"
   ]
  },
  {
   "cell_type": "code",
   "execution_count": 5,
   "id": "c5ed548e",
   "metadata": {},
   "outputs": [],
   "source": [
    "website_1 = 'https://www.geekbuying.com/search?keyword=laptop'\n",
    "website_2 = 'http://automationpractice.com/index.php'"
   ]
  },
  {
   "cell_type": "code",
   "execution_count": 12,
   "id": "cab82a38",
   "metadata": {},
   "outputs": [],
   "source": [
    "# initialize the chrome driver\n",
    "\n",
    "driver = webdriver.Chrome('/home/aayush/Downloads/Chrome_driver_Selenium/chromedriver')\n",
    "driver.get(website_1) # open website\n",
    "driver.maximize_window()"
   ]
  },
  {
   "cell_type": "markdown",
   "id": "8e78d30a",
   "metadata": {},
   "source": [
    "## Locators"
   ]
  },
  {
   "cell_type": "code",
   "execution_count": 13,
   "id": "37ce5936",
   "metadata": {},
   "outputs": [],
   "source": [
    "price = driver.find_element_by_xpath(\"(//li[@class='searchResultItem']/div/div[3])[1]\")"
   ]
  },
  {
   "cell_type": "code",
   "execution_count": 14,
   "id": "0752cc2b",
   "metadata": {},
   "outputs": [
    {
     "name": "stdout",
     "output_type": "stream",
     "text": [
      "$365.99\n"
     ]
    }
   ],
   "source": [
    "print(price.text)"
   ]
  },
  {
   "cell_type": "code",
   "execution_count": 15,
   "id": "f0c8fa9b",
   "metadata": {},
   "outputs": [],
   "source": [
    "prices =driver.find_elements_by_xpath(\"//li[@class='searchResultItem']/div/div[3]\")"
   ]
  },
  {
   "cell_type": "code",
   "execution_count": 18,
   "id": "19509f28",
   "metadata": {},
   "outputs": [
    {
     "data": {
      "text/plain": [
       "40"
      ]
     },
     "execution_count": 18,
     "metadata": {},
     "output_type": "execute_result"
    }
   ],
   "source": [
    "len(prices) # total 40 items in the first page"
   ]
  },
  {
   "cell_type": "code",
   "execution_count": 19,
   "id": "6c7d2061",
   "metadata": {},
   "outputs": [
    {
     "name": "stdout",
     "output_type": "stream",
     "text": [
      "$365.99\n",
      "$59.99\n",
      "$29.99\n",
      "$9.99\n",
      "$26.99\n",
      "$11.99\n",
      "$23.59\n",
      "$24.99\n",
      "$1469.99\n",
      "$729.99\n",
      "$26.99\n",
      "$62.99\n",
      "$29.99\n",
      "$49.99\n",
      "$33.99\n",
      "$49.99\n",
      "$9.99\n",
      "$63.99\n",
      "$63.99\n",
      "$29.99\n",
      "$13.99\n",
      "$16.99\n",
      "$11.99\n",
      "$9.99\n",
      "$409.99\n",
      "$399.99\n",
      "$369.99\n",
      "$389.99\n",
      "$419.99\n",
      "$679.99\n",
      "$719.99\n",
      "$29.99\n",
      "$24.99\n",
      "$49.99\n",
      "$24.99\n",
      "$31.99\n",
      "$33.99\n",
      "$1449.99\n",
      "$1159.99\n",
      "$29.99\n"
     ]
    }
   ],
   "source": [
    "for p in prices: # print all the prices\n",
    "    print(p.text)"
   ]
  },
  {
   "cell_type": "code",
   "execution_count": 20,
   "id": "de37bd96",
   "metadata": {},
   "outputs": [
    {
     "name": "stdout",
     "output_type": "stream",
     "text": [
      "<class 'list'>\n"
     ]
    }
   ],
   "source": [
    " print(type(prices))"
   ]
  },
  {
   "cell_type": "code",
   "execution_count": 21,
   "id": "d027bb0f",
   "metadata": {},
   "outputs": [],
   "source": [
    "# to get the name of the products"
   ]
  },
  {
   "cell_type": "code",
   "execution_count": 39,
   "id": "104342f2",
   "metadata": {},
   "outputs": [],
   "source": [
    "# names = driver.find_elements_by_xpath('//li[@class=\"searchResultItem\"]//div[@class=\"name\"]')"
   ]
  },
  {
   "cell_type": "code",
   "execution_count": 32,
   "id": "742fd284",
   "metadata": {},
   "outputs": [
    {
     "name": "stdout",
     "output_type": "stream",
     "text": [
      "40\n"
     ]
    }
   ],
   "source": [
    "print(len(names))"
   ]
  },
  {
   "cell_type": "markdown",
   "id": "10bf32bc",
   "metadata": {},
   "source": [
    "### using class locator"
   ]
  },
  {
   "cell_type": "code",
   "execution_count": 30,
   "id": "a4622132",
   "metadata": {},
   "outputs": [],
   "source": [
    "names = driver.find_elements_by_class_name('name')"
   ]
  },
  {
   "cell_type": "code",
   "execution_count": 31,
   "id": "c94b88e1",
   "metadata": {},
   "outputs": [
    {
     "name": "stdout",
     "output_type": "stream",
     "text": [
      "40\n"
     ]
    }
   ],
   "source": [
    "print(len(names))"
   ]
  },
  {
   "cell_type": "code",
   "execution_count": 38,
   "id": "849c037c",
   "metadata": {},
   "outputs": [
    {
     "data": {
      "text/plain": [
       "'ALLDOCUBE KNote X Pro Tablet Laptop Intel Gemini Lake N4100 13.3 Inch 1080P FHD Screen Windows 10 8GB RAM 128GB ROM - Grey'"
      ]
     },
     "execution_count": 38,
     "metadata": {},
     "output_type": "execute_result"
    }
   ],
   "source": [
    "names[0].text"
   ]
  },
  {
   "cell_type": "code",
   "execution_count": 44,
   "id": "71caccd7",
   "metadata": {},
   "outputs": [
    {
     "name": "stdout",
     "output_type": "stream",
     "text": [
      "ALLDOCUBE KNote X Pro Tablet Laptop Intel Gemini Lake N4100 13.3 Inch 1080P FHD Screen Windows 10 8GB RAM 128GB ROM - Grey\n",
      "Keyboard for One Netbook ONEXPLAYER Game Console Tablet PC Laptop\n",
      "Carrying Case Bag for One Netbook ONEXPLAYER Game Console Tablet PC Laptop\n",
      "Portable Foldable Laptop Cooling Stand 4 Height Adjustable Non-slip Silicone For 11-17 Inch Notebook Tablet - White\n",
      "Logitech Pebble Wireless Mouse Bluetooth 2.4GHz Mute Dual Modes Portable For PC - White\n",
      "Protective Case for 8.9 Inch Magic-Ben MAG1 Pocket Laptop - Black\n",
      "A878 114-key LED Backlit Wired USB Gaming Keyboard Adjustable Brightness With Crack Pattern For Desktop / - Black\n",
      "Original Charger for One Netbook One Mix 2S Yoga Pocket Laptop - Black\n",
      "One Netbook 4 Platinum Laptop 360 Degree YOGA 10.1\" Touch Screen Intel Core i7-1160G7 16GB DDR4 RAM 1TB PCI-E SSD WiFi 6 Windows 10 Fingerprint - Black\n",
      "One Netbook A1 360 Degree 2 in 1 Pocket Laptop Intel M3-8100Y 8GB RAM 512GB PCIe SSD + Original Stylus Pen + Protective Case\n",
      "Logitech Pebble Wireless Mouse Bluetooth 2.4GHz Mute Dual Modes Portable For PC - Black\n",
      "Logitech G502 HERO Proteus Spectrum Wired Adaptive Gaming Mouse 12000DPI USB Computer Mouse For PC / - Black\n",
      "Logitech G300S Wired Gaming Mouse 9 Programmable Keys 2500DPI Ergonomic Shape For PC / - Black\n",
      "Logitech C270 HD Vid 720P Webcam With MIC Micphone Video Calling for Android TV Box/PC/\n",
      "Logitech G302 Daedalus Prime MOBA Wired Optical Gaming Mouse Lightweight Design 4000 DPI For PC / - Black\n",
      "Xiaomi Wowstick 1F + Electric Screwdriver Bits Toolkit for Reparing Phone Toy Laptop Digital Product - Gray\n",
      "PU Leather Protective Case for 8.4\" One Netbook One Mix 3 / 3S Yoga Pocket Laptop - Black\n",
      "Xiaomi 23L Sports Leisure Backpack Waterproof 15.6-inch Laptop Bag Outdoor Travel Rucksack - Gray\n",
      "Xiaomi 23L Sports Leisure Backpack Waterproof 15.6-inch Laptop Bag Outdoor Travel Rucksack - Black\n",
      "Xiaomi Portable Mouse Mi Mouse Bluetooth 4.0 / RF 2.4GHz Wireless Dual Modes Connection for PC - Silver\n",
      "PU Leather Protective Case for 7\" One Netbook One Mix 2 / 2S Yoga Pocket Laptop - Black\n",
      "Xiaomi Wireless Mouse 2 Mute Portable Ultra-thin 2.4G Wireless 1000DPI For PC -White\n",
      "PU Leather Protective Case for 8.4\" One Netbook One Mix 3 Pro Yoga Pocket Laptop - Black\n",
      "USB Converter Hub 3*USB + 1*SD + 1*TF For Laptop Notebooks - Black\n",
      "DERE X156 15.6 Inch Laptop Intel Celeron J4115 1920*1080 FHD 8GB DDR4 512G SSD Windows 10 HDMI Output - Silver\n",
      "Cenava PA156G Laptop Intel Celeron J4125 15.6 Inch 1920*1080 Windows 10 8GB RAM 256GB SSD - Silver\n",
      "Cenava PA156G Laptop Intel Celeron J4125 15.6 Inch 1920*1080 Windows 10 8GB RAM 128GB SSD - Silver\n",
      "DERE X156 15.6 Inch Laptop Intel Celeron J4115 1920*1080 FHD 8GB DDR4 256G SSD Windows 10 HDMI Output - Silver\n",
      "Cenava PA156G Laptop Intel Celeron J4125 15.6 Inch 1920*1080 Windows 10 8GB RAM 512GB SSD - Silver\n",
      "One Netbook A1 360 Degree 2 in 1 Pocket Laptop Intel M3-8100Y 8GB RAM 256GB PCIe SSD + Original Stylus Pen\n",
      "One Netbook A1 360 Degree 2 in 1 Pocket Laptop Intel M3-8100Y 8GB RAM 512GB PCIe SSD + Original Stylus Pen\n",
      "Tronsmart Glary Gaming Headset 7.1 Virtual Surround Sound Stereo Sound with Colorful LED Lighting USB Interface Mic for PC\n",
      "Maxmemory X200 64GB SATA3 High Speed SSD 2.5 Inch Solid State Drive Hard Disk For PC - Black\n",
      "Xiaomi UREVO 25L Multi-functional Backpack Waterproof 15-inch Laptop Bag Outdoor Travel Rucksack From Xiaomi Youpin- Black\n",
      "HXSJ S90 720P HD Webcam USB Compatible Adjustable Angle Automatic Color Correction Built-in Sound-absorbing Microphone For Desktop TV - Black\n",
      "HXSJ S3 1080P HD Webcam 5MP Auto Focus Built-in Microphone Adjustable Angle Support Video Conference For Desktop PC / - Black\n",
      "ASHU H800 1080P HD Webcam Built-In Microphone Auto Color Correction Support CC2000 TARGET ICQ For Desktop - Black\n",
      "One Netbook OneGx1 Gaming Laptop 7-inch 1920x1200 i5-10210Y 16GB RAM 512GB SSD WiFi 6 Windows 10 5G Version - Blue\n",
      "One Netbook ONEXPLAYER Game Console PC 8.4 Inch Pocket Computer i7-1165G7 16G RAM 1TB SSD IPS Touch Screen Windows 10 US Plug\n",
      "Gsou T16s 1080P HD Webcam Built-in Microphone HDR Sensor Beauty Effect For / LCD Monitor / Desktop / Tripod / Mac - Black\n"
     ]
    }
   ],
   "source": [
    "for name in names:\n",
    "    print(name.text)"
   ]
  },
  {
   "cell_type": "markdown",
   "id": "3256f8df",
   "metadata": {},
   "source": [
    "### using ID locator"
   ]
  },
  {
   "cell_type": "code",
   "execution_count": 47,
   "id": "d8db3ced",
   "metadata": {},
   "outputs": [],
   "source": [
    "# initialize the chrome driver\n",
    "\n",
    "driver = webdriver.Chrome('/home/aayush/Downloads/Chrome_driver_Selenium/chromedriver')\n",
    "driver.get(website_2) # open website\n",
    "driver.maximize_window()\n",
    "time.sleep(1)\n",
    "\n",
    "search = driver.find_element_by_id('search_query_top')\n",
    "# click\n",
    "search.click()\n",
    "time.sleep(1)\n",
    "search.send_keys('hello hello')"
   ]
  },
  {
   "cell_type": "markdown",
   "id": "2e4d441b",
   "metadata": {},
   "source": [
    "### Name Locator"
   ]
  },
  {
   "cell_type": "code",
   "execution_count": 48,
   "id": "20fd1ec8",
   "metadata": {},
   "outputs": [],
   "source": [
    "search_button = driver.find_element_by_name('submit_search')\n",
    "search_button.click()"
   ]
  },
  {
   "cell_type": "markdown",
   "id": "2318e5be",
   "metadata": {},
   "source": [
    "### LinkText Locator"
   ]
  },
  {
   "cell_type": "code",
   "execution_count": 52,
   "id": "063c6c77",
   "metadata": {},
   "outputs": [],
   "source": [
    "sign_in = driver.find_element_by_link_text('Sign in')\n",
    "sign_in.click()\n",
    "\n"
   ]
  },
  {
   "cell_type": "code",
   "execution_count": null,
   "id": "2cc667a8",
   "metadata": {},
   "outputs": [],
   "source": []
  },
  {
   "cell_type": "markdown",
   "id": "1a25ebd9",
   "metadata": {},
   "source": [
    "### Partial LinkText Locator"
   ]
  },
  {
   "cell_type": "code",
   "execution_count": null,
   "id": "93419b4a",
   "metadata": {},
   "outputs": [],
   "source": [
    "# just giving the partial text of contact us"
   ]
  },
  {
   "cell_type": "code",
   "execution_count": 49,
   "id": "92123b9a",
   "metadata": {},
   "outputs": [],
   "source": [
    "contact_partial = driver.find_element_by_partial_link_text('ntac')"
   ]
  },
  {
   "cell_type": "code",
   "execution_count": 51,
   "id": "3ac9f63e",
   "metadata": {},
   "outputs": [],
   "source": [
    "contact_partial.click()"
   ]
  },
  {
   "cell_type": "code",
   "execution_count": null,
   "id": "afe5af0b",
   "metadata": {},
   "outputs": [],
   "source": []
  },
  {
   "cell_type": "markdown",
   "id": "0f8ccbc8",
   "metadata": {},
   "source": [
    "### Different way  of using the locator"
   ]
  },
  {
   "cell_type": "code",
   "execution_count": 68,
   "id": "3acffbca",
   "metadata": {},
   "outputs": [],
   "source": [
    "#option1\n",
    "prices = driver.find_elements_by_xpath(\"//li[@class='searchResultItem']/div/div[3]\")\n",
    "#option2\n",
    "# prices_2 = driver.find_elements(By.xpath(\"//li[@class='searchResultItem']/div/div[3]\"))"
   ]
  },
  {
   "cell_type": "code",
   "execution_count": 69,
   "id": "df4a8cb1",
   "metadata": {},
   "outputs": [],
   "source": [
    "# option1\n",
    "search_button_1 = driver.find_element_by_name('submit_search')"
   ]
  },
  {
   "cell_type": "code",
   "execution_count": 70,
   "id": "ab21be1e",
   "metadata": {},
   "outputs": [],
   "source": [
    "#option2\n",
    "# search_button_2 = driver.find_elements(By.name('submit_search'))"
   ]
  },
  {
   "cell_type": "code",
   "execution_count": null,
   "id": "12608821",
   "metadata": {},
   "outputs": [],
   "source": []
  },
  {
   "cell_type": "code",
   "execution_count": null,
   "id": "9400cbd6",
   "metadata": {},
   "outputs": [],
   "source": []
  },
  {
   "cell_type": "markdown",
   "id": "f47e23c6",
   "metadata": {},
   "source": [
    "## Selenium in Action"
   ]
  },
  {
   "cell_type": "code",
   "execution_count": 71,
   "id": "6812a061",
   "metadata": {},
   "outputs": [],
   "source": [
    "# open the website\n",
    "driver = webdriver.Chrome('/home/aayush/Downloads/Chrome_driver_Selenium/chromedriver')\n",
    "driver.get(website_2)\n",
    "time.sleep(1)\n",
    "\n",
    "# send keys and click on button\n",
    "search = driver.find_element_by_id('search_query_top')\n",
    "search.click()\n",
    "time.sleep(1)\n",
    "\n",
    "# type a text inside the search bar\n",
    "search.send_keys('laptop')\n",
    "time.sleep(1)\n",
    "\n",
    "# submit your search request\n",
    "search_button = driver.find_element_by_name('submit_search')\n",
    "search_button.click()\n",
    "\n",
    "#go back\n",
    "driver.back()\n",
    "time.sleep(1)\n",
    "\n",
    "# click contact us \n",
    "contact_us = driver.find_element_by_link_text('Contact us')\n",
    "contact_us.click()\n",
    "time.sleep(1)\n",
    "\n",
    "# close the driver at the end\n",
    "driver.close()"
   ]
  },
  {
   "cell_type": "code",
   "execution_count": null,
   "id": "66577ea9",
   "metadata": {},
   "outputs": [],
   "source": []
  },
  {
   "cell_type": "code",
   "execution_count": null,
   "id": "44ed1898",
   "metadata": {},
   "outputs": [],
   "source": []
  },
  {
   "cell_type": "markdown",
   "id": "4eb91537",
   "metadata": {},
   "source": [
    "## Run everything in Headless "
   ]
  },
  {
   "cell_type": "code",
   "execution_count": 73,
   "id": "653cbfd0",
   "metadata": {},
   "outputs": [
    {
     "name": "stdout",
     "output_type": "stream",
     "text": [
      "website was open\n",
      "a text was typed in the search bar\n",
      "search request sent\n",
      "go back to home page\n",
      "contact us us clicked\n",
      "website was closed\n"
     ]
    }
   ],
   "source": [
    "chrome_options = Options()\n",
    "chrome_options.add_argument('--headless')\n",
    "\n",
    "# open the website\n",
    "driver = webdriver.Chrome('/home/aayush/Downloads/Chrome_driver_Selenium/chromedriver',options=chrome_options)\n",
    "driver.get(website_2)\n",
    "time.sleep(1)\n",
    "print('website was open')\n",
    "\n",
    "# send keys and click on button\n",
    "search = driver.find_element_by_id('search_query_top')\n",
    "search.click()\n",
    "time.sleep(1)\n",
    "\n",
    "\n",
    "\n",
    "# type a text inside the search bar\n",
    "search.send_keys('laptop')\n",
    "time.sleep(1)\n",
    "\n",
    "\n",
    "print('a text was typed in the search bar')\n",
    "\n",
    "# submit your search request\n",
    "search_button = driver.find_element_by_name('submit_search')\n",
    "search_button.click()\n",
    "\n",
    "print('search request sent')\n",
    "#go back\n",
    "driver.back()\n",
    "print('go back to home page')\n",
    "time.sleep(1)\n",
    "\n",
    "# click contact us \n",
    "contact_us = driver.find_element_by_link_text('Contact us')\n",
    "contact_us.click()\n",
    "print('contact us us clicked')\n",
    "time.sleep(1)\n",
    "\n",
    "# close the driver at the end\n",
    "driver.close()\n",
    "print('website was closed')"
   ]
  },
  {
   "cell_type": "code",
   "execution_count": null,
   "id": "39160c68",
   "metadata": {},
   "outputs": [],
   "source": []
  }
 ],
 "metadata": {
  "kernelspec": {
   "display_name": "Python 3",
   "language": "python",
   "name": "python3"
  },
  "language_info": {
   "codemirror_mode": {
    "name": "ipython",
    "version": 3
   },
   "file_extension": ".py",
   "mimetype": "text/x-python",
   "name": "python",
   "nbconvert_exporter": "python",
   "pygments_lexer": "ipython3",
   "version": "3.7.10"
  }
 },
 "nbformat": 4,
 "nbformat_minor": 5
}
