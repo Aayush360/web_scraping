{
 "cells": [
  {
   "cell_type": "code",
   "execution_count": 1,
   "id": "1852dbef",
   "metadata": {},
   "outputs": [],
   "source": [
    "from selenium import webdriver\n",
    "import pandas as pd\n",
    "import time"
   ]
  },
  {
   "cell_type": "code",
   "execution_count": 3,
   "id": "717d06ec",
   "metadata": {},
   "outputs": [],
   "source": [
    "driver = webdriver.Chrome('/home/aayush/Downloads/Chrome_driver_Selenium/chromedriver')\n",
    "driver.get('https://www.yelp.com/search?find_desc=Dentists&find_loc=San+Francisco%2C+CA&ns=1')\n",
    "driver.maximize_window()\n",
    "time.sleep(1)"
   ]
  },
  {
   "cell_type": "code",
   "execution_count": 4,
   "id": "59a46009",
   "metadata": {},
   "outputs": [],
   "source": [
    "## Accept cookies"
   ]
  },
  {
   "cell_type": "code",
   "execution_count": 5,
   "id": "0cac341d",
   "metadata": {},
   "outputs": [],
   "source": [
    "# cookies = driver.find_element_by_id('onetrust-accept-btn-handler')\n",
    "# cookies.click()"
   ]
  },
  {
   "cell_type": "code",
   "execution_count": 92,
   "id": "316fadcc",
   "metadata": {},
   "outputs": [],
   "source": [
    "names = driver.find_elements_by_xpath('//h4[@class=\"css-1l5lt1i\"]/span/a')\n",
    "rating_count = driver.find_elements_by_xpath('//div[@class=\" border-color--default__09f24__3Epto\"]/div[2]/span')\n",
    "speciality = driver.find_elements_by_xpath('//div[@class=\" border-color--default__09f24__3Epto\"]/div/div/div/p/span[1]')\n",
    "address = driver.find_elements_by_xpath('//div[@class=\" border-color--default__09f24__3Epto\"]/div/div/div/p/span[2]')\n",
    "\n",
    "stars = driver.find_elements_by_xpath('//div[@class=\" attribute__09f24__1La1D display--inline-block__09f24__3SvIn margin-r1__09f24__3PebR border-color--default__09f24__3Epto\"]/span/div')\n",
    "total_rating = driver.find_elements_by_xpath('//div[@class=\" attribute__09f24__1La1D display--inline-block__09f24__3SvIn border-color--default__09f24__3Epto\"]/span')\n"
   ]
  },
  {
   "cell_type": "code",
   "execution_count": 93,
   "id": "1054f5f4",
   "metadata": {},
   "outputs": [
    {
     "name": "stdout",
     "output_type": "stream",
     "text": [
      "5 star rating\n",
      "5 star rating\n",
      "4.5 star rating\n",
      "5 star rating\n",
      "5 star rating\n",
      "5 star rating\n",
      "4.5 star rating\n",
      "5 star rating\n",
      "5 star rating\n",
      "5 star rating\n"
     ]
    }
   ],
   "source": [
    "for s in stars:\n",
    "    print(s.get_attribute('aria-label'))"
   ]
  },
  {
   "cell_type": "code",
   "execution_count": 32,
   "id": "28d1e134",
   "metadata": {},
   "outputs": [
    {
     "name": "stdout",
     "output_type": "stream",
     "text": [
      "All Smiles Dental\n",
      "San Francisco Dental Artistry\n",
      "Josh Berd, DDS - The Dentist Group\n",
      "David T Ho, DDS\n",
      "Michael J Perona, DDS\n",
      "Robert Phong Ho, DDS\n",
      "Aesthetic Dentistry of Noe Valley\n",
      "Lakeside Dental Care\n",
      "Elias Qaré, DDS\n",
      "Zen Dental Studio\n"
     ]
    }
   ],
   "source": [
    "for n in names:\n",
    "    print(n.text)"
   ]
  },
  {
   "cell_type": "code",
   "execution_count": 33,
   "id": "42f9a713",
   "metadata": {},
   "outputs": [
    {
     "name": "stdout",
     "output_type": "stream",
     "text": [
      "447\n",
      "342\n",
      "228\n",
      "118\n",
      "67\n",
      "111\n",
      "108\n",
      "96\n",
      "132\n",
      "80\n"
     ]
    }
   ],
   "source": [
    "for t in total_rating:\n",
    "    print(t.text)"
   ]
  },
  {
   "cell_type": "code",
   "execution_count": 55,
   "id": "f086cb17",
   "metadata": {},
   "outputs": [
    {
     "name": "stdout",
     "output_type": "stream",
     "text": [
      "General Dentistry\n",
      "Endodontists\n",
      "Orthodontists\n",
      "\n",
      "General Dentistry\n",
      "Cosmetic Dentists\n",
      "\n",
      "Cosmetic Dentists\n",
      "General Dentistry\n",
      "Orthodontists\n",
      "\n",
      "General Dentistry\n",
      "\n",
      "General Dentistry\n",
      "Cosmetic Dentists\n",
      "Orthodontists\n",
      "\n",
      "General Dentistry\n",
      "\n",
      "Cosmetic Dentists\n",
      "General Dentistry\n",
      "Endodontists\n",
      "\n",
      "General Dentistry\n",
      "\n",
      "General Dentistry\n",
      "\n",
      "General Dentistry\n",
      "Cosmetic Dentists\n",
      "Orthodontists\n",
      "\n"
     ]
    }
   ],
   "source": [
    "for s in speciality:\n",
    "    print(s.text)\n",
    "    print()\n",
    "    \n",
    "    "
   ]
  },
  {
   "cell_type": "code",
   "execution_count": 57,
   "id": "c1551b31",
   "metadata": {},
   "outputs": [
    {
     "name": "stdout",
     "output_type": "stream",
     "text": [
      "West Portal\n",
      "Financial District\n",
      "Hayes Valley\n",
      "Lower Pacific Heights\n",
      "Financial District\n",
      "Inner Richmond\n",
      "Noe Valley\n",
      "Lakeside\n",
      "Mission\n",
      "SoMa\n"
     ]
    }
   ],
   "source": [
    "for a in address:\n",
    "    print(a.text)"
   ]
  },
  {
   "cell_type": "markdown",
   "id": "b0013d97",
   "metadata": {},
   "source": [
    "## Creating a DataFrame"
   ]
  },
  {
   "cell_type": "code",
   "execution_count": 58,
   "id": "91079727",
   "metadata": {},
   "outputs": [],
   "source": [
    "dentist_df = pd.DataFrame(columns=['name','address','speciality','stars','rating_count'])"
   ]
  },
  {
   "cell_type": "code",
   "execution_count": 59,
   "id": "7cda83d2",
   "metadata": {},
   "outputs": [
    {
     "data": {
      "text/html": [
       "<div>\n",
       "<style scoped>\n",
       "    .dataframe tbody tr th:only-of-type {\n",
       "        vertical-align: middle;\n",
       "    }\n",
       "\n",
       "    .dataframe tbody tr th {\n",
       "        vertical-align: top;\n",
       "    }\n",
       "\n",
       "    .dataframe thead th {\n",
       "        text-align: right;\n",
       "    }\n",
       "</style>\n",
       "<table border=\"1\" class=\"dataframe\">\n",
       "  <thead>\n",
       "    <tr style=\"text-align: right;\">\n",
       "      <th></th>\n",
       "      <th>name</th>\n",
       "      <th>address</th>\n",
       "      <th>speciality</th>\n",
       "      <th>stars</th>\n",
       "      <th>rating_count</th>\n",
       "    </tr>\n",
       "  </thead>\n",
       "  <tbody>\n",
       "  </tbody>\n",
       "</table>\n",
       "</div>"
      ],
      "text/plain": [
       "Empty DataFrame\n",
       "Columns: [name, address, speciality, stars, rating_count]\n",
       "Index: []"
      ]
     },
     "execution_count": 59,
     "metadata": {},
     "output_type": "execute_result"
    }
   ],
   "source": [
    "dentist_df"
   ]
  },
  {
   "cell_type": "code",
   "execution_count": 60,
   "id": "e2a7e127",
   "metadata": {},
   "outputs": [],
   "source": [
    "## first create an empty list"
   ]
  },
  {
   "cell_type": "code",
   "execution_count": 96,
   "id": "253f09df",
   "metadata": {},
   "outputs": [],
   "source": [
    "names_list=[]\n",
    "address_list=[]\n",
    "speciality_list=[]\n",
    "stars_list=[]\n",
    "rating_counts_list = []"
   ]
  },
  {
   "cell_type": "code",
   "execution_count": 97,
   "id": "499aa2ae",
   "metadata": {},
   "outputs": [],
   "source": [
    "for n in names:\n",
    "    names_list.append(n.text)\n"
   ]
  },
  {
   "cell_type": "code",
   "execution_count": 98,
   "id": "be53940a",
   "metadata": {},
   "outputs": [],
   "source": [
    "for a in address:\n",
    "    address_list.append(a.text)"
   ]
  },
  {
   "cell_type": "code",
   "execution_count": 99,
   "id": "8692f685",
   "metadata": {},
   "outputs": [],
   "source": [
    "for s in speciality:\n",
    "    speciality_list.append(s.text)"
   ]
  },
  {
   "cell_type": "code",
   "execution_count": 100,
   "id": "535b683e",
   "metadata": {},
   "outputs": [
    {
     "data": {
      "text/plain": [
       "['General Dentistry\\nEndodontists\\nOrthodontists',\n",
       " 'General Dentistry\\nCosmetic Dentists',\n",
       " 'Cosmetic Dentists\\nGeneral Dentistry\\nOrthodontists',\n",
       " 'General Dentistry',\n",
       " 'General Dentistry\\nCosmetic Dentists\\nOrthodontists',\n",
       " 'General Dentistry',\n",
       " 'Cosmetic Dentists\\nGeneral Dentistry\\nEndodontists',\n",
       " 'General Dentistry',\n",
       " 'General Dentistry',\n",
       " 'General Dentistry\\nCosmetic Dentists\\nOrthodontists']"
      ]
     },
     "execution_count": 100,
     "metadata": {},
     "output_type": "execute_result"
    }
   ],
   "source": [
    "speciality_list"
   ]
  },
  {
   "cell_type": "code",
   "execution_count": 101,
   "id": "5950f6c8",
   "metadata": {},
   "outputs": [],
   "source": [
    "for s in stars:\n",
    "    stars_list.append(s.get_attribute('aria-label'))"
   ]
  },
  {
   "cell_type": "code",
   "execution_count": 102,
   "id": "9bbe7207",
   "metadata": {},
   "outputs": [
    {
     "data": {
      "text/plain": [
       "['5 star rating',\n",
       " '5 star rating',\n",
       " '4.5 star rating',\n",
       " '5 star rating',\n",
       " '5 star rating',\n",
       " '5 star rating',\n",
       " '4.5 star rating',\n",
       " '5 star rating',\n",
       " '5 star rating',\n",
       " '5 star rating']"
      ]
     },
     "execution_count": 102,
     "metadata": {},
     "output_type": "execute_result"
    }
   ],
   "source": [
    "stars_list"
   ]
  },
  {
   "cell_type": "code",
   "execution_count": 103,
   "id": "879aafb5",
   "metadata": {},
   "outputs": [],
   "source": [
    "for r in total_rating:\n",
    "    rating_counts_list.append(r.text)"
   ]
  },
  {
   "cell_type": "code",
   "execution_count": 104,
   "id": "b8a61658",
   "metadata": {},
   "outputs": [
    {
     "data": {
      "text/plain": [
       "['447', '342', '228', '118', '67', '111', '108', '96', '132', '80']"
      ]
     },
     "execution_count": 104,
     "metadata": {},
     "output_type": "execute_result"
    }
   ],
   "source": [
    "rating_counts_list"
   ]
  },
  {
   "cell_type": "code",
   "execution_count": 106,
   "id": "0d231b47",
   "metadata": {},
   "outputs": [],
   "source": [
    "dentist_info ={\n",
    "    'name':names_list,\n",
    "    'address':address_list,\n",
    "    'speciality':speciality_list,\n",
    "    'stars': stars_list,\n",
    "    'rating_count':rating_counts_list\n",
    "}"
   ]
  },
  {
   "cell_type": "code",
   "execution_count": 107,
   "id": "cc5cbd5c",
   "metadata": {},
   "outputs": [
    {
     "data": {
      "text/plain": [
       "{'name': ['All Smiles Dental',\n",
       "  'San Francisco Dental Artistry',\n",
       "  'Josh Berd, DDS - The Dentist Group',\n",
       "  'David T Ho, DDS',\n",
       "  'Michael J Perona, DDS',\n",
       "  'Robert Phong Ho, DDS',\n",
       "  'Aesthetic Dentistry of Noe Valley',\n",
       "  'Lakeside Dental Care',\n",
       "  'Elias Qaré, DDS',\n",
       "  'Zen Dental Studio'],\n",
       " 'address': ['West Portal',\n",
       "  'Financial District',\n",
       "  'Hayes Valley',\n",
       "  'Lower Pacific Heights',\n",
       "  'Financial District',\n",
       "  'Inner Richmond',\n",
       "  'Noe Valley',\n",
       "  'Lakeside',\n",
       "  'Mission',\n",
       "  'SoMa'],\n",
       " 'speciality': ['General Dentistry\\nEndodontists\\nOrthodontists',\n",
       "  'General Dentistry\\nCosmetic Dentists',\n",
       "  'Cosmetic Dentists\\nGeneral Dentistry\\nOrthodontists',\n",
       "  'General Dentistry',\n",
       "  'General Dentistry\\nCosmetic Dentists\\nOrthodontists',\n",
       "  'General Dentistry',\n",
       "  'Cosmetic Dentists\\nGeneral Dentistry\\nEndodontists',\n",
       "  'General Dentistry',\n",
       "  'General Dentistry',\n",
       "  'General Dentistry\\nCosmetic Dentists\\nOrthodontists'],\n",
       " 'stars': ['5 star rating',\n",
       "  '5 star rating',\n",
       "  '4.5 star rating',\n",
       "  '5 star rating',\n",
       "  '5 star rating',\n",
       "  '5 star rating',\n",
       "  '4.5 star rating',\n",
       "  '5 star rating',\n",
       "  '5 star rating',\n",
       "  '5 star rating'],\n",
       " 'rating_count': ['447',\n",
       "  '342',\n",
       "  '228',\n",
       "  '118',\n",
       "  '67',\n",
       "  '111',\n",
       "  '108',\n",
       "  '96',\n",
       "  '132',\n",
       "  '80']}"
      ]
     },
     "execution_count": 107,
     "metadata": {},
     "output_type": "execute_result"
    }
   ],
   "source": [
    "dentist_info"
   ]
  },
  {
   "cell_type": "code",
   "execution_count": 133,
   "id": "ca1dbe97",
   "metadata": {},
   "outputs": [],
   "source": [
    "dentist_df=pd.DataFrame(dentist_info)"
   ]
  },
  {
   "cell_type": "code",
   "execution_count": 134,
   "id": "638ffada",
   "metadata": {},
   "outputs": [
    {
     "data": {
      "text/html": [
       "<div>\n",
       "<style scoped>\n",
       "    .dataframe tbody tr th:only-of-type {\n",
       "        vertical-align: middle;\n",
       "    }\n",
       "\n",
       "    .dataframe tbody tr th {\n",
       "        vertical-align: top;\n",
       "    }\n",
       "\n",
       "    .dataframe thead th {\n",
       "        text-align: right;\n",
       "    }\n",
       "</style>\n",
       "<table border=\"1\" class=\"dataframe\">\n",
       "  <thead>\n",
       "    <tr style=\"text-align: right;\">\n",
       "      <th></th>\n",
       "      <th>name</th>\n",
       "      <th>address</th>\n",
       "      <th>speciality</th>\n",
       "      <th>stars</th>\n",
       "      <th>rating_count</th>\n",
       "    </tr>\n",
       "  </thead>\n",
       "  <tbody>\n",
       "    <tr>\n",
       "      <th>0</th>\n",
       "      <td>All Smiles Dental</td>\n",
       "      <td>West Portal</td>\n",
       "      <td>General Dentistry\\nEndodontists\\nOrthodontists</td>\n",
       "      <td>5 star rating</td>\n",
       "      <td>447</td>\n",
       "    </tr>\n",
       "    <tr>\n",
       "      <th>1</th>\n",
       "      <td>San Francisco Dental Artistry</td>\n",
       "      <td>Financial District</td>\n",
       "      <td>General Dentistry\\nCosmetic Dentists</td>\n",
       "      <td>5 star rating</td>\n",
       "      <td>342</td>\n",
       "    </tr>\n",
       "    <tr>\n",
       "      <th>2</th>\n",
       "      <td>Josh Berd, DDS - The Dentist Group</td>\n",
       "      <td>Hayes Valley</td>\n",
       "      <td>Cosmetic Dentists\\nGeneral Dentistry\\nOrthodon...</td>\n",
       "      <td>4.5 star rating</td>\n",
       "      <td>228</td>\n",
       "    </tr>\n",
       "    <tr>\n",
       "      <th>3</th>\n",
       "      <td>David T Ho, DDS</td>\n",
       "      <td>Lower Pacific Heights</td>\n",
       "      <td>General Dentistry</td>\n",
       "      <td>5 star rating</td>\n",
       "      <td>118</td>\n",
       "    </tr>\n",
       "    <tr>\n",
       "      <th>4</th>\n",
       "      <td>Michael J Perona, DDS</td>\n",
       "      <td>Financial District</td>\n",
       "      <td>General Dentistry\\nCosmetic Dentists\\nOrthodon...</td>\n",
       "      <td>5 star rating</td>\n",
       "      <td>67</td>\n",
       "    </tr>\n",
       "  </tbody>\n",
       "</table>\n",
       "</div>"
      ],
      "text/plain": [
       "                                 name                address  \\\n",
       "0                   All Smiles Dental            West Portal   \n",
       "1       San Francisco Dental Artistry     Financial District   \n",
       "2  Josh Berd, DDS - The Dentist Group           Hayes Valley   \n",
       "3                     David T Ho, DDS  Lower Pacific Heights   \n",
       "4               Michael J Perona, DDS     Financial District   \n",
       "\n",
       "                                          speciality            stars  \\\n",
       "0     General Dentistry\\nEndodontists\\nOrthodontists    5 star rating   \n",
       "1               General Dentistry\\nCosmetic Dentists    5 star rating   \n",
       "2  Cosmetic Dentists\\nGeneral Dentistry\\nOrthodon...  4.5 star rating   \n",
       "3                                  General Dentistry    5 star rating   \n",
       "4  General Dentistry\\nCosmetic Dentists\\nOrthodon...    5 star rating   \n",
       "\n",
       "  rating_count  \n",
       "0          447  \n",
       "1          342  \n",
       "2          228  \n",
       "3          118  \n",
       "4           67  "
      ]
     },
     "execution_count": 134,
     "metadata": {},
     "output_type": "execute_result"
    }
   ],
   "source": [
    "dentist_df.head()"
   ]
  },
  {
   "cell_type": "code",
   "execution_count": 135,
   "id": "3ddc6a19",
   "metadata": {},
   "outputs": [],
   "source": [
    "dentist_df = dentist_df.replace('\\n',', ', regex=True)\n"
   ]
  },
  {
   "cell_type": "code",
   "execution_count": 136,
   "id": "a9b9b8ee",
   "metadata": {},
   "outputs": [
    {
     "data": {
      "text/html": [
       "<div>\n",
       "<style scoped>\n",
       "    .dataframe tbody tr th:only-of-type {\n",
       "        vertical-align: middle;\n",
       "    }\n",
       "\n",
       "    .dataframe tbody tr th {\n",
       "        vertical-align: top;\n",
       "    }\n",
       "\n",
       "    .dataframe thead th {\n",
       "        text-align: right;\n",
       "    }\n",
       "</style>\n",
       "<table border=\"1\" class=\"dataframe\">\n",
       "  <thead>\n",
       "    <tr style=\"text-align: right;\">\n",
       "      <th></th>\n",
       "      <th>name</th>\n",
       "      <th>address</th>\n",
       "      <th>speciality</th>\n",
       "      <th>stars</th>\n",
       "      <th>rating_count</th>\n",
       "    </tr>\n",
       "  </thead>\n",
       "  <tbody>\n",
       "    <tr>\n",
       "      <th>0</th>\n",
       "      <td>All Smiles Dental</td>\n",
       "      <td>West Portal</td>\n",
       "      <td>General Dentistry, Endodontists, Orthodontists</td>\n",
       "      <td>5 star rating</td>\n",
       "      <td>447</td>\n",
       "    </tr>\n",
       "    <tr>\n",
       "      <th>1</th>\n",
       "      <td>San Francisco Dental Artistry</td>\n",
       "      <td>Financial District</td>\n",
       "      <td>General Dentistry, Cosmetic Dentists</td>\n",
       "      <td>5 star rating</td>\n",
       "      <td>342</td>\n",
       "    </tr>\n",
       "    <tr>\n",
       "      <th>2</th>\n",
       "      <td>Josh Berd, DDS - The Dentist Group</td>\n",
       "      <td>Hayes Valley</td>\n",
       "      <td>Cosmetic Dentists, General Dentistry, Orthodon...</td>\n",
       "      <td>4.5 star rating</td>\n",
       "      <td>228</td>\n",
       "    </tr>\n",
       "    <tr>\n",
       "      <th>3</th>\n",
       "      <td>David T Ho, DDS</td>\n",
       "      <td>Lower Pacific Heights</td>\n",
       "      <td>General Dentistry</td>\n",
       "      <td>5 star rating</td>\n",
       "      <td>118</td>\n",
       "    </tr>\n",
       "    <tr>\n",
       "      <th>4</th>\n",
       "      <td>Michael J Perona, DDS</td>\n",
       "      <td>Financial District</td>\n",
       "      <td>General Dentistry, Cosmetic Dentists, Orthodon...</td>\n",
       "      <td>5 star rating</td>\n",
       "      <td>67</td>\n",
       "    </tr>\n",
       "  </tbody>\n",
       "</table>\n",
       "</div>"
      ],
      "text/plain": [
       "                                 name                address  \\\n",
       "0                   All Smiles Dental            West Portal   \n",
       "1       San Francisco Dental Artistry     Financial District   \n",
       "2  Josh Berd, DDS - The Dentist Group           Hayes Valley   \n",
       "3                     David T Ho, DDS  Lower Pacific Heights   \n",
       "4               Michael J Perona, DDS     Financial District   \n",
       "\n",
       "                                          speciality            stars  \\\n",
       "0     General Dentistry, Endodontists, Orthodontists    5 star rating   \n",
       "1               General Dentistry, Cosmetic Dentists    5 star rating   \n",
       "2  Cosmetic Dentists, General Dentistry, Orthodon...  4.5 star rating   \n",
       "3                                  General Dentistry    5 star rating   \n",
       "4  General Dentistry, Cosmetic Dentists, Orthodon...    5 star rating   \n",
       "\n",
       "  rating_count  \n",
       "0          447  \n",
       "1          342  \n",
       "2          228  \n",
       "3          118  \n",
       "4           67  "
      ]
     },
     "execution_count": 136,
     "metadata": {},
     "output_type": "execute_result"
    }
   ],
   "source": [
    "dentist_df.head()"
   ]
  },
  {
   "cell_type": "code",
   "execution_count": 137,
   "id": "f8c22af2",
   "metadata": {},
   "outputs": [
    {
     "name": "stderr",
     "output_type": "stream",
     "text": [
      "/home/aayush/anaconda3/lib/python3.7/site-packages/ipykernel_launcher.py:1: FutureWarning: The default value of regex will change from True to False in a future version.\n",
      "  \"\"\"Entry point for launching an IPython kernel.\n"
     ]
    }
   ],
   "source": [
    "dentist_df['stars'] = dentist_df['stars'].str.replace('[^0-9]', '')\n"
   ]
  },
  {
   "cell_type": "code",
   "execution_count": 138,
   "id": "4573a14d",
   "metadata": {},
   "outputs": [
    {
     "data": {
      "text/html": [
       "<div>\n",
       "<style scoped>\n",
       "    .dataframe tbody tr th:only-of-type {\n",
       "        vertical-align: middle;\n",
       "    }\n",
       "\n",
       "    .dataframe tbody tr th {\n",
       "        vertical-align: top;\n",
       "    }\n",
       "\n",
       "    .dataframe thead th {\n",
       "        text-align: right;\n",
       "    }\n",
       "</style>\n",
       "<table border=\"1\" class=\"dataframe\">\n",
       "  <thead>\n",
       "    <tr style=\"text-align: right;\">\n",
       "      <th></th>\n",
       "      <th>name</th>\n",
       "      <th>address</th>\n",
       "      <th>speciality</th>\n",
       "      <th>stars</th>\n",
       "      <th>rating_count</th>\n",
       "    </tr>\n",
       "  </thead>\n",
       "  <tbody>\n",
       "    <tr>\n",
       "      <th>0</th>\n",
       "      <td>All Smiles Dental</td>\n",
       "      <td>West Portal</td>\n",
       "      <td>General Dentistry, Endodontists, Orthodontists</td>\n",
       "      <td>5</td>\n",
       "      <td>447</td>\n",
       "    </tr>\n",
       "    <tr>\n",
       "      <th>1</th>\n",
       "      <td>San Francisco Dental Artistry</td>\n",
       "      <td>Financial District</td>\n",
       "      <td>General Dentistry, Cosmetic Dentists</td>\n",
       "      <td>5</td>\n",
       "      <td>342</td>\n",
       "    </tr>\n",
       "    <tr>\n",
       "      <th>2</th>\n",
       "      <td>Josh Berd, DDS - The Dentist Group</td>\n",
       "      <td>Hayes Valley</td>\n",
       "      <td>Cosmetic Dentists, General Dentistry, Orthodon...</td>\n",
       "      <td>45</td>\n",
       "      <td>228</td>\n",
       "    </tr>\n",
       "    <tr>\n",
       "      <th>3</th>\n",
       "      <td>David T Ho, DDS</td>\n",
       "      <td>Lower Pacific Heights</td>\n",
       "      <td>General Dentistry</td>\n",
       "      <td>5</td>\n",
       "      <td>118</td>\n",
       "    </tr>\n",
       "    <tr>\n",
       "      <th>4</th>\n",
       "      <td>Michael J Perona, DDS</td>\n",
       "      <td>Financial District</td>\n",
       "      <td>General Dentistry, Cosmetic Dentists, Orthodon...</td>\n",
       "      <td>5</td>\n",
       "      <td>67</td>\n",
       "    </tr>\n",
       "  </tbody>\n",
       "</table>\n",
       "</div>"
      ],
      "text/plain": [
       "                                 name                address  \\\n",
       "0                   All Smiles Dental            West Portal   \n",
       "1       San Francisco Dental Artistry     Financial District   \n",
       "2  Josh Berd, DDS - The Dentist Group           Hayes Valley   \n",
       "3                     David T Ho, DDS  Lower Pacific Heights   \n",
       "4               Michael J Perona, DDS     Financial District   \n",
       "\n",
       "                                          speciality stars rating_count  \n",
       "0     General Dentistry, Endodontists, Orthodontists     5          447  \n",
       "1               General Dentistry, Cosmetic Dentists     5          342  \n",
       "2  Cosmetic Dentists, General Dentistry, Orthodon...    45          228  \n",
       "3                                  General Dentistry     5          118  \n",
       "4  General Dentistry, Cosmetic Dentists, Orthodon...     5           67  "
      ]
     },
     "execution_count": 138,
     "metadata": {},
     "output_type": "execute_result"
    }
   ],
   "source": [
    "dentist_df.head()"
   ]
  },
  {
   "cell_type": "code",
   "execution_count": 139,
   "id": "b7eceb23",
   "metadata": {},
   "outputs": [],
   "source": [
    "# cleaning the data"
   ]
  },
  {
   "cell_type": "code",
   "execution_count": 140,
   "id": "fb4cbe5b",
   "metadata": {},
   "outputs": [],
   "source": [
    "#using lambda"
   ]
  },
  {
   "cell_type": "code",
   "execution_count": 141,
   "id": "36b07b7e",
   "metadata": {},
   "outputs": [],
   "source": [
    "# dentist_df['stars']=dentist_df['stars'].apply(lambda x: x.replace('star rating',''))"
   ]
  },
  {
   "cell_type": "markdown",
   "id": "9c5c76d4",
   "metadata": {},
   "source": [
    "### save data in excel"
   ]
  },
  {
   "cell_type": "code",
   "execution_count": 146,
   "id": "463832b7",
   "metadata": {},
   "outputs": [
    {
     "name": "stdout",
     "output_type": "stream",
     "text": [
      "Requirement already satisfied: openpyxl in /home/aayush/anaconda3/lib/python3.7/site-packages (3.0.7)\r\n",
      "Requirement already satisfied: et-xmlfile in /home/aayush/anaconda3/lib/python3.7/site-packages (from openpyxl) (1.1.0)\r\n"
     ]
    }
   ],
   "source": [
    "!pip install openpyxl"
   ]
  },
  {
   "cell_type": "code",
   "execution_count": 147,
   "id": "9502db4d",
   "metadata": {},
   "outputs": [],
   "source": [
    "writer = pd.ExcelWriter('data_clean.xlsx') # create excel writer object"
   ]
  },
  {
   "cell_type": "code",
   "execution_count": 148,
   "id": "e8179297",
   "metadata": {},
   "outputs": [],
   "source": [
    "dentist_df.to_excel(writer,index=False)"
   ]
  },
  {
   "cell_type": "code",
   "execution_count": 149,
   "id": "a67c05c8",
   "metadata": {},
   "outputs": [
    {
     "name": "stdout",
     "output_type": "stream",
     "text": [
      "dataframe is writtern successfully to excel file\n"
     ]
    }
   ],
   "source": [
    "writer.save()\n",
    "print('dataframe is writtern successfully to excel file')"
   ]
  },
  {
   "cell_type": "code",
   "execution_count": null,
   "id": "75c634c8",
   "metadata": {},
   "outputs": [],
   "source": [
    " "
   ]
  }
 ],
 "metadata": {
  "kernelspec": {
   "display_name": "Python 3",
   "language": "python",
   "name": "python3"
  },
  "language_info": {
   "codemirror_mode": {
    "name": "ipython",
    "version": 3
   },
   "file_extension": ".py",
   "mimetype": "text/x-python",
   "name": "python",
   "nbconvert_exporter": "python",
   "pygments_lexer": "ipython3",
   "version": "3.7.10"
  }
 },
 "nbformat": 4,
 "nbformat_minor": 5
}
